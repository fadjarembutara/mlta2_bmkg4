{
 "cells": [
  {
   "cell_type": "markdown",
   "id": "50b3775a-151f-4487-b052-e2969eba9616",
   "metadata": {},
   "source": [
    "# Dataset Weather/BMKG\n",
    "# kelompok BMKG_4"
   ]
  },
  {
   "cell_type": "markdown",
   "id": "26a3af98-1fc3-4bda-8572-993d91df7758",
   "metadata": {
    "tags": []
   },
   "source": [
    "### Tahap Load data dan Eksplorasi data\n"
   ]
  },
  {
   "cell_type": "code",
   "execution_count": null,
   "id": "103d13ee-ae2b-4375-9b69-7e9799ca5861",
   "metadata": {
    "tags": []
   },
   "outputs": [],
   "source": [
    "from datetime import datetime, timedelta\n",
    "import time\n",
    "from collections import namedtuple\n",
    "import pandas as pd\n",
    "import requests"
   ]
  },
  {
   "cell_type": "code",
   "execution_count": null,
   "id": "a7bb6b6a-f312-4b8d-b33e-0a2e70080de4",
   "metadata": {},
   "outputs": [],
   "source": [
    "import os.path"
   ]
  },
  {
   "cell_type": "code",
   "execution_count": null,
   "id": "8b7a3622-d65b-4a56-992f-d908b636cd1c",
   "metadata": {},
   "outputs": [],
   "source": [
    "dataset_path=\"openweatherdata-denpasar-1990-2020.csv\"\n",
    "\n",
    "dataset2_path=\"openweatherdata-denpasar-1990-2020v0.1.csv\""
   ]
  },
  {
   "cell_type": "code",
   "execution_count": null,
   "id": "6a57893d-50cf-4bd8-87cb-f249a32e68b0",
   "metadata": {},
   "outputs": [],
   "source": [
    "dataset2 = pd.read_csv(dataset2_path)\n",
    "dataset2"
   ]
  },
  {
   "cell_type": "markdown",
   "id": "b61a696f-cd49-4b18-a43f-d43cade0564f",
   "metadata": {
    "jp-MarkdownHeadingCollapsed": true,
    "tags": []
   },
   "source": [
    "#### Penjelasan dataset\n",
    "\n",
    "#### Dataset memiliki 29 kolom seperti tampak pada tabel di atas. beberapa kolom merupakan kolom untuk data statis seperti nama kota , koordinat (latitude, longitude) , dan time zone kolom ini tidak akan digunakan untuk analisis"
   ]
  },
  {
   "cell_type": "markdown",
   "id": "6d791af3-bf93-4708-8227-75c9bb095a55",
   "metadata": {
    "tags": []
   },
   "source": [
    "### Date time Preporcessing"
   ]
  },
  {
   "cell_type": "markdown",
   "id": "0fe75675-0e98-4433-a748-cbc952108139",
   "metadata": {},
   "source": [
    "#### Konversi date time dari format unix ke format ISO dilakukan untuk dataset1 krena time masih dalam format unix\n",
    "#### tidak perlu dilakukan pada dataset2 karena sudah tersedia time dalam format ISO"
   ]
  },
  {
   "cell_type": "code",
   "execution_count": null,
   "id": "8838ae0c-f4d3-445a-9370-74476765c259",
   "metadata": {},
   "outputs": [],
   "source": [
    "dataset2.head(100)"
   ]
  },
  {
   "cell_type": "code",
   "execution_count": null,
   "id": "d2f12bbf-68a8-4ef0-9b7a-a31848af938f",
   "metadata": {},
   "outputs": [],
   "source": [
    "dataset2.dtypes"
   ]
  },
  {
   "cell_type": "code",
   "execution_count": null,
   "id": "16ea5898-9c87-4200-a601-e9ae50a08f23",
   "metadata": {},
   "outputs": [],
   "source": [
    "pd.set_option('display.max_columns', None)\n",
    "dataset2.tail(5)"
   ]
  },
  {
   "cell_type": "code",
   "execution_count": null,
   "id": "55d42804-2e45-4bf0-b443-9c956b925cf3",
   "metadata": {},
   "outputs": [],
   "source": [
    "print(dataset2.var().round(2))"
   ]
  },
  {
   "cell_type": "code",
   "execution_count": null,
   "id": "9a0f5e39-2162-4ffa-8818-55dca9d44dbd",
   "metadata": {},
   "outputs": [],
   "source": [
    "print('data shape',dataset2.shape)\n",
    "print('----------is Not Null-------------')\n",
    "print(dataset2.count())\n",
    "print('---------------Is Null---------------')\n",
    "print(dataset2.isna().sum())\n"
   ]
  },
  {
   "cell_type": "markdown",
   "id": "dd9fb1d5-630b-4516-b690-eaf16d713846",
   "metadata": {},
   "source": [
    "## Cleansing\n",
    "### drop NA column (un used column)"
   ]
  },
  {
   "cell_type": "code",
   "execution_count": null,
   "id": "6f5d2f1e-865b-47dd-982f-c804e460e57e",
   "metadata": {},
   "outputs": [],
   "source": [
    "dataset2 = dataset2.drop(['timezone','city_name','lat','lon','snow_1h', 'snow_3h', 'snow_6h', 'snow_12h', 'snow_24h', 'snow_today', 'weather_description','weather_icon'],axis=1)\n",
    "dataset2.head()"
   ]
  },
  {
   "cell_type": "code",
   "execution_count": null,
   "id": "d6f7115f-e3da-46d1-bd94-202f99f982a9",
   "metadata": {},
   "outputs": [],
   "source": [
    "dataset2.shape"
   ]
  },
  {
   "cell_type": "markdown",
   "id": "ca6e4535-fef5-435f-8a44-67b44a550ec5",
   "metadata": {},
   "source": [
    "#### Berdasarkan hasil eksplorasi di atas beberapa kolom memiliki Nan value pada semua row serhingga tidak digunakanan. selain itu juga terdapat kolom yang berisi data categorical yang bukan merupakan target label yaitu weather_description dan wwather_icon. kolom ini tidak digunakan dalam analisis"
   ]
  },
  {
   "cell_type": "markdown",
   "id": "5eec8ee2-df0a-44e8-b624-6a091ee8d01a",
   "metadata": {},
   "source": [
    "## Visualise"
   ]
  },
  {
   "cell_type": "code",
   "execution_count": null,
   "id": "76e7c4e1-f86f-4599-9f42-5fe14d845fdd",
   "metadata": {},
   "outputs": [],
   "source": [
    "import seaborn as sns\n",
    "import matplotlib.pyplot as plt\n",
    "import numpy as np"
   ]
  },
  {
   "cell_type": "code",
   "execution_count": null,
   "id": "e0e16f53-a48d-4545-860f-4ef617f3c75c",
   "metadata": {},
   "outputs": [],
   "source": [
    "viz1 = dataset2[['dt_iso','temp','temp_min','temp_max','pressure','humidity','wind_speed','wind_deg','clouds_all','weather_main']]\n",
    "viz1"
   ]
  },
  {
   "cell_type": "code",
   "execution_count": null,
   "id": "313f513e-59c4-4421-a756-943f6e3b39ff",
   "metadata": {},
   "outputs": [],
   "source": [
    "viz1['weather_main'].value_counts()"
   ]
  },
  {
   "cell_type": "code",
   "execution_count": null,
   "id": "f784561c-99aa-4042-9bcc-ed708629dd15",
   "metadata": {},
   "outputs": [],
   "source": [
    "sns.countplot(data=viz1, x='weather_main')"
   ]
  },
  {
   "cell_type": "code",
   "execution_count": null,
   "id": "1bd2c7fa-49fe-478c-b6be-7184aa6c51c6",
   "metadata": {},
   "outputs": [],
   "source": [
    "#sns.pairplot(data=viz1, hue='weather_main') ---- lama banget di run ---"
   ]
  },
  {
   "cell_type": "code",
   "execution_count": null,
   "id": "b476afe6-b0aa-4d3a-a4a7-1c7690dcf21e",
   "metadata": {},
   "outputs": [],
   "source": [
    "# fig,axes = plt.subplots(2,2, figsize=(10,10))\n",
    "# cols = ['humidity', 'temp_max', 'temp_min', 'wind_speed']\n",
    "# for i in range(4):\n",
    "     # sns.scatterplot(data=viz1, x='dt_iso', y=cols[i], hue='weather_main', ax=axes[i%2,i//2])"
   ]
  },
  {
   "cell_type": "code",
   "execution_count": null,
   "id": "70466755-0154-43da-94d3-b10fe7ce3c64",
   "metadata": {},
   "outputs": [],
   "source": [
    "#viz = sns.load_dataset(\"viz1\")\n",
    "sns.pairplot(viz1, hue='weather_main')"
   ]
  },
  {
   "cell_type": "markdown",
   "id": "4d31a105-e222-48ec-a0e8-eb9c0125a8fd",
   "metadata": {},
   "source": []
  },
  {
   "cell_type": "code",
   "execution_count": null,
   "id": "16a32a12-3c0c-472b-8f9a-f6b22f4eb30b",
   "metadata": {},
   "outputs": [],
   "source": [
    "weather_main_list= dataset2['weather_main'].unique().tolist()\n",
    "weather_id_list= dataset2['weather_id'].unique().tolist()\n",
    "\n",
    "print(weather_main_list)\n",
    "print(weather_id_list)\n",
    "print('-----------count-----------')\n",
    "print(\"count weather main = \", len(weather_main_list))\n",
    "print(\"count weather id = \", len(weather_id_list))"
   ]
  },
  {
   "cell_type": "code",
   "execution_count": null,
   "id": "c952c6fb-9213-489b-b1ad-fb8cb17c1d68",
   "metadata": {},
   "outputs": [],
   "source": []
  },
  {
   "cell_type": "markdown",
   "id": "a0b06b79-8981-4760-9414-da7277ff170c",
   "metadata": {},
   "source": [
    "#### Encode target label"
   ]
  },
  {
   "cell_type": "code",
   "execution_count": null,
   "id": "ac03252e-a391-40ed-b889-90763f939b2a",
   "metadata": {},
   "outputs": [],
   "source": [
    "#from sklearn.preprocessing import OrdinalEncoder\n",
    "#from sklearn.preprocessing import OneHotEncoder"
   ]
  },
  {
   "cell_type": "code",
   "execution_count": null,
   "id": "f1a9a12f-aa2e-4bba-b1e7-6b0028d3ff44",
   "metadata": {},
   "outputs": [],
   "source": [
    "#dataset2_test = dataset2\n",
    "\n",
    "#ord_enc = OrdinalEncoder()\n",
    "#dataset2_test[\"weather_main_code\"] =ord_enc.fit_transform(dataset2[['weather_main']])\n",
    "\n",
    "#print(dataset2_test['weather_main_code'].unique())"
   ]
  }
 ],
 "metadata": {
  "kernelspec": {
   "display_name": "Python 3 (ipykernel)",
   "language": "python",
   "name": "python3"
  },
  "language_info": {
   "codemirror_mode": {
    "name": "ipython",
    "version": 3
   },
   "file_extension": ".py",
   "mimetype": "text/x-python",
   "name": "python",
   "nbconvert_exporter": "python",
   "pygments_lexer": "ipython3",
   "version": "3.9.12"
  }
 },
 "nbformat": 4,
 "nbformat_minor": 5
}
